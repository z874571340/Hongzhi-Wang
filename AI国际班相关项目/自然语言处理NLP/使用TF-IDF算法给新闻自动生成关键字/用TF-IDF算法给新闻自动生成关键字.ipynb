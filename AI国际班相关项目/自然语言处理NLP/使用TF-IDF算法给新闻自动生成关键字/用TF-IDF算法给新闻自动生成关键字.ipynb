{
 "cells": [
  {
   "cell_type": "code",
   "execution_count": 18,
   "metadata": {},
   "outputs": [],
   "source": [
    "import pkuseg\n",
    "seg = pkuseg.pkuseg()"
   ]
  },
  {
   "cell_type": "code",
   "execution_count": 19,
   "metadata": {},
   "outputs": [
    {
     "name": "stdout",
     "output_type": "stream",
     "text": [
      "['北京', '大学', '语言', '计算', '和', '机器', '学习', '研究组', '研制', '出', '一', '套', '全新', '的', '中文', '分词', '工具包', '，', '它', '简单', '易用', '，', '支持', '多', '领域', '分词', '，', '在', '不同', '领域', '的', '数据', '上都', '大幅度', '提高', '了', '分词', '的', '准确率']\n"
     ]
    }
   ],
   "source": [
    "if __name__ == '__main__':\n",
    "    print(seg.cut('北京大学语言计算和机器学习研究组研制出一套全新的中文分词工具包，它简单易用，支持多领域分词，在不同领域的数据上都大幅度提高了分词的准确率'))"
   ]
  },
  {
   "cell_type": "code",
   "execution_count": 20,
   "metadata": {},
   "outputs": [],
   "source": [
    "def is_chinese(uchar):\n",
    "    if uchar >= u'\\u4e00' and uchar <= u'\\u9fa5':\n",
    "        return True\n",
    "    else:\n",
    "        return False\n",
    "def format_str(content):\n",
    "    content_str = ''\n",
    "    for i in content:\n",
    "        if is_chinese(i):\n",
    "            content_str = content_str + i\n",
    "    return content_str"
   ]
  },
  {
   "cell_type": "code",
   "execution_count": 21,
   "metadata": {},
   "outputs": [],
   "source": [
    "filenames = [\"1.txt\",\"2.txt\",\"3.txt\"]\n",
    "if __name__ == \"__main__\":\n",
    "    corpus = []\n",
    "    for name in filenames:\n",
    "        with open(name,'r') as f:\n",
    "            str = f.read()\n",
    "            str = format_str(str)\n",
    "            str = seg.cut(str)\n",
    "            corpus.append(\" \".join(str))"
   ]
  },
  {
   "cell_type": "code",
   "execution_count": 22,
   "metadata": {},
   "outputs": [],
   "source": [
    "from sklearn import feature_extraction\n",
    "from sklearn.feature_extraction.text import TfidfTransformer\n",
    "from sklearn.feature_extraction.text import CountVectorizer\n",
    "import numpy as np"
   ]
  },
  {
   "cell_type": "code",
   "execution_count": 23,
   "metadata": {},
   "outputs": [],
   "source": [
    "vectorizer=CountVectorizer()\n",
    "    #该类会将文本中的词语转换为词频矩阵，矩阵元素a[i][j] 表示j词在i类文本下的词频\n",
    "transformer=TfidfTransformer()  \n",
    "    #该类会统计每个词语的tfidf权值\n",
    "tfidf=transformer.fit_transform(vectorizer.fit_transform(corpus))\n",
    "    #第一个fit_transform是计算tf-idf，第二个fit_transform是将文本转为词频矩阵\n",
    "word=vectorizer.get_feature_names()\n",
    "    #获取词袋模型中的所有词语\n",
    "weight=tfidf.toarray()\n",
    "    #将tf-idf矩阵抽取出来，元素a[i][j]表示j词在i类文本中的tf-idf权重"
   ]
  },
  {
   "cell_type": "code",
   "execution_count": 24,
   "metadata": {},
   "outputs": [
    {
     "name": "stdout",
     "output_type": "stream",
     "text": [
      "1.txt : \n",
      "1 书店 0.8024335064642661\n",
      "2 实体 0.3183207298370643\n",
      "3 扶持 0.19895045614816514\n",
      "4 北京市 0.17905541053334864\n",
      "5 特色 0.15252868304692663\n",
      "2.txt : \n",
      "1 生猪 0.452781320712281\n",
      "2 猪肉 0.31346399126234836\n",
      "3 生产 0.2089759941748989\n",
      "4 广西 0.17414666181241575\n",
      "5 养殖 0.1393173294499326\n",
      "3.txt : \n",
      "1 韩国 0.5029373987832176\n",
      "2 美国 0.3520561791482523\n",
      "3 报道 0.2514686993916088\n",
      "4 防卫费 0.2514686993916088\n",
      "5 美方 0.20117495951328707\n"
     ]
    }
   ],
   "source": [
    "for (name, w) in zip(filenames,weight):\n",
    "    print(name,\": \")\n",
    "    loc = np.argsort(-w)\n",
    "    for i in range(5):\n",
    "        print(i+1,word[loc[i]], w[loc[i]])"
   ]
  },
  {
   "cell_type": "code",
   "execution_count": null,
   "metadata": {},
   "outputs": [],
   "source": []
  }
 ],
 "metadata": {
  "kernelspec": {
   "display_name": "Python 3",
   "language": "python",
   "name": "python3"
  },
  "language_info": {
   "codemirror_mode": {
    "name": "ipython",
    "version": 3
   },
   "file_extension": ".py",
   "mimetype": "text/x-python",
   "name": "python",
   "nbconvert_exporter": "python",
   "pygments_lexer": "ipython3",
   "version": "3.7.4"
  }
 },
 "nbformat": 4,
 "nbformat_minor": 2
}
