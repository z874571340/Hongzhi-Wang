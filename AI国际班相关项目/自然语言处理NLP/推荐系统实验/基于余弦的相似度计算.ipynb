{
 "cells": [
  {
   "cell_type": "code",
   "execution_count": 1,
   "metadata": {},
   "outputs": [
    {
     "name": "stdout",
     "output_type": "stream",
     "text": [
      "{'苹果': {'⾹蕉': 0.5773502691896258, '⻄⽠': 0.6666666666666667, '菠萝': 0.40824829046386296}, '⾹蕉': {'苹果': 0.5773502691896258, '⻄⽠': 0.5773502691896258, '菠萝': 0.35355339059327373, '葡萄': 0.35355339059327373}, '⻄⽠': {'苹果': 0.6666666666666667, '⾹蕉': 0.5773502691896258}, '菠萝': {'苹果': 0.40824829046386296, '⾹蕉': 0.35355339059327373, '葡萄': 0.4999999999999999}, '葡萄': {'⾹蕉': 0.35355339059327373, '菠萝': 0.4999999999999999}}\n"
     ]
    }
   ],
   "source": [
    "## ItemCF-余弦算法\n",
    "import math\n",
    "def ItemSimilarity_cos(train):\n",
    "    C = dict() ##同时购买的次数\n",
    "    N = dict() ##购买⽤户数\n",
    "    for u,items in train.items():\n",
    "        for i in items.keys():\n",
    "            if i not in N.keys():\n",
    "                N[i]=0\n",
    "            N[i] += items[i]* items[i]\n",
    "            for j in items.keys():\n",
    "                if i == j:\n",
    "                    continue\n",
    "                if i not in C.keys():\n",
    "                    C[i]=dict()\n",
    "                if j not in C[i].keys():\n",
    "                    C[i][j]=0\n",
    "                ##当⽤户同时购买了i和j，则加评分乘积\n",
    "                C[i][j] += items[i]*items[j]\n",
    "    W = dict() ##相似分数\n",
    "    for i,related_items in C.items():\n",
    "        if i not in W.keys():\n",
    "            W[i]=dict()\n",
    "        for j,cij in related_items.items():\n",
    "            W[i][j] = cij / (math.sqrt( N[i])*math.sqrt( N[j]) )\n",
    "    return W\n",
    "if __name__ == '__main__':\n",
    "    Train_Data = {'A':{'苹果':2,'⾹蕉':2,'⻄⽠':2},\n",
    "                'B':{'苹果':2,'⻄⽠':2},\n",
    "                'C':{'苹果':2,'⾹蕉':2,'菠萝':2},\n",
    "                'D':{'⾹蕉':2,'葡萄':2},\n",
    "                'E':{'葡萄':2,'菠萝':2},\n",
    "                'F':{'⾹蕉':2,'⻄⽠':2}}\n",
    "W= ItemSimilarity_cos (Train_Data)\n",
    "print(W)"
   ]
  },
  {
   "cell_type": "code",
   "execution_count": null,
   "metadata": {},
   "outputs": [],
   "source": []
  }
 ],
 "metadata": {
  "kernelspec": {
   "display_name": "Python 3",
   "language": "python",
   "name": "python3"
  },
  "language_info": {
   "codemirror_mode": {
    "name": "ipython",
    "version": 3
   },
   "file_extension": ".py",
   "mimetype": "text/x-python",
   "name": "python",
   "nbconvert_exporter": "python",
   "pygments_lexer": "ipython3",
   "version": "3.7.4"
  }
 },
 "nbformat": 4,
 "nbformat_minor": 2
}
