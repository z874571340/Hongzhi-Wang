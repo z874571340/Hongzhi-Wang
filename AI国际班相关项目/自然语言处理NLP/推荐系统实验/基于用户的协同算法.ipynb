{
 "cells": [
  {
   "cell_type": "code",
   "execution_count": 1,
   "metadata": {},
   "outputs": [
    {
     "name": "stdout",
     "output_type": "stream",
     "text": [
      "defaultdict(<class 'collections.defaultdict'>, {'A': defaultdict(None, {'B': 0.8164965809277261, 'C': 0.6666666666666666, 'D': 0.4082482904638631, 'F': 0.8164965809277261}), 'B': defaultdict(None, {'A': 0.8164965809277261, 'C': 0.4082482904638631, 'F': 0.5}), 'C': defaultdict(None, {'A': 0.6666666666666666, 'B': 0.4082482904638631, 'D': 0.4082482904638631, 'F': 0.4082482904638631, 'E': 0.4082482904638631}), 'D': defaultdict(None, {'A': 0.4082482904638631, 'C': 0.4082482904638631, 'F': 0.5, 'E': 0.5}), 'F': defaultdict(None, {'A': 0.8164965809277261, 'C': 0.4082482904638631, 'D': 0.5, 'B': 0.5}), 'E': defaultdict(None, {'C': 0.4082482904638631, 'D': 0.5})})\n"
     ]
    }
   ],
   "source": [
    "from collections import defaultdict\n",
    "import math\n",
    "def defItemIndex(DictUser):\n",
    "    DictItem=defaultdict(defaultdict)\n",
    "    ##遍历每个⽤户\n",
    "    for key in DictUser:\n",
    "        ##遍历⽤户k的购买记录\n",
    "        for i in DictUser[key]:\n",
    "            DictItem[i][key]=[key,DictUser[key][i]]\n",
    "    return DictItem\n",
    "\n",
    "def defUserSimilarity(DictItem):\n",
    "    N=dict() #⽤户购买的数量\n",
    "    C=defaultdict(defaultdict)\n",
    "    W=defaultdict(defaultdict)\n",
    "    ##遍历每个物品\n",
    "    for key in DictItem:\n",
    "    ##遍历⽤户k购买过的物品\n",
    "    #print(key,\":\")\n",
    "        for x in DictItem[key]:\n",
    "            i = DictItem[key][x]\n",
    "            #i[0]表示⽤户的id ，如果未计算过，则初始化为0\n",
    "            if i[0] not in N.keys():\n",
    "                N[i[0]]=0\n",
    "            N[i[0]]+=1\n",
    "            ## (i,j)是物品k同时被购买的⽤户两两匹配对\n",
    "            for j in DictItem[key]:\n",
    "                if i[0]==j[0]:\n",
    "                    continue\n",
    "                if j[0] not in C[i[0]].keys():\n",
    "                    C[i[0]][j[0]]=0\n",
    "                #C[i[0]][j[0]]表示⽤户i和j购买同样物品的数量\n",
    "                C[i[0]][j[0]]+=1\n",
    "    for i,related_user in C.items():\n",
    "        for j,cij in related_user.items():\n",
    "            W[i][j]=cij/math.sqrt(N[i]*N[j])\n",
    "    return W\n",
    "\n",
    "if __name__ == '__main__':\n",
    "    Train_Data = {'A':{'苹果':1,'⾹蕉':1,'⻄⽠':1},\n",
    "                'B':{'苹果':1,'⻄⽠':1},\n",
    "                'C':{'苹果':1,'⾹蕉':1,'菠萝':1},\n",
    "                'D':{'⾹蕉':1,'葡萄':1},\n",
    "                'E':{'葡萄':1,'菠萝':1},\n",
    "                'F':{'⾹蕉':1,'⻄⽠':1}}\n",
    "W=defItemIndex(Train_Data)\n",
    "print(defUserSimilarity(W))"
   ]
  },
  {
   "cell_type": "code",
   "execution_count": null,
   "metadata": {},
   "outputs": [],
   "source": []
  }
 ],
 "metadata": {
  "kernelspec": {
   "display_name": "Python 3",
   "language": "python",
   "name": "python3"
  },
  "language_info": {
   "codemirror_mode": {
    "name": "ipython",
    "version": 3
   },
   "file_extension": ".py",
   "mimetype": "text/x-python",
   "name": "python",
   "nbconvert_exporter": "python",
   "pygments_lexer": "ipython3",
   "version": "3.7.4"
  }
 },
 "nbformat": 4,
 "nbformat_minor": 2
}
