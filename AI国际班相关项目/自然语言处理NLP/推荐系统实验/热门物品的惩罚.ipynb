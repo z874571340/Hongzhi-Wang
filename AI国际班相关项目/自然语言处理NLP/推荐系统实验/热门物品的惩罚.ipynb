{
 "cells": [
  {
   "cell_type": "code",
   "execution_count": 3,
   "metadata": {},
   "outputs": [
    {
     "name": "stdout",
     "output_type": "stream",
     "text": [
      "{'⻄⽠': 1.278209836428268, '⾹蕉': 0, '菠萝': 0, '苹果': 0, '葡萄': 0.5}\n"
     ]
    }
   ],
   "source": [
    "##改进算法\n",
    "import math\n",
    "def ItemSimilarity_alpha(train,alpha=0.3):\n",
    "    C = dict() ##同时被购买的次数\n",
    "    N = dict() ##被购买⽤户数\n",
    "    for u,items in train.items():\n",
    "        for i in items.keys():\n",
    "            if i not in N.keys():\n",
    "                N[i]=0\n",
    "            N[i] += 1\n",
    "            for j in items.keys():\n",
    "                if i == j:\n",
    "                    continue\n",
    "                if i not in C.keys():\n",
    "                    C[i]=dict()\n",
    "                if j not in C[i].keys():\n",
    "                    C[i][j]=0\n",
    "                ##当⽤户同时购买了i和j，则加1\n",
    "                C[i][j] += 1\n",
    "    W = dict() ##相似分数\n",
    "    for i,related_items in C.items():\n",
    "        if i not in W.keys():\n",
    "            W[i]=dict()\n",
    "        for j,cij in related_items.items():\n",
    "            W[i][j] = cij /(math.pow(N[i],alpha)*math.pow(N[j],1-alpha))\n",
    "    return W\n",
    "\n",
    "def Recommend(train,user_id,W,K):\n",
    "    rank = dict()\n",
    "    ru = train[user_id]\n",
    "    for i,pi in ru.items():\n",
    "        tmp=W[i]\n",
    "        for j,wj in sorted(tmp.items(),key=lambda d:d[1],reverse=True)[0:K]:\n",
    "             if j not in rank.keys():\n",
    "                rank[j]=0\n",
    "             ##r如果⽤户已经购买过，则不再推荐\n",
    "             if j in ru:\n",
    "                continue\n",
    "            ##待推荐的物品j与⽤户已购买的物品i相似，则累加上相似分数\n",
    "             rank[j] += pi*wj\n",
    "    return rank\n",
    "if __name__ == '__main__':\n",
    "    Train_Data = {'A':{'苹果':1,'⾹蕉':1,'⻄⽠':1},\n",
    "        'B':{'苹果':1,'⻄⽠':1},\n",
    "        'C':{'苹果':1,'⾹蕉':1,'菠萝':1},\n",
    "        'D':{'⾹蕉':1,'葡萄':1},\n",
    "        'E':{'葡萄':1,'菠萝':1},\n",
    "        'F':{'⾹蕉':1,'⻄⽠':1}}\n",
    "W= ItemSimilarity_alpha (Train_Data)\n",
    "print(Recommend(Train_Data,'C',W,3))"
   ]
  },
  {
   "cell_type": "code",
   "execution_count": null,
   "metadata": {},
   "outputs": [],
   "source": []
  }
 ],
 "metadata": {
  "kernelspec": {
   "display_name": "Python 3",
   "language": "python",
   "name": "python3"
  },
  "language_info": {
   "codemirror_mode": {
    "name": "ipython",
    "version": 3
   },
   "file_extension": ".py",
   "mimetype": "text/x-python",
   "name": "python",
   "nbconvert_exporter": "python",
   "pygments_lexer": "ipython3",
   "version": "3.7.4"
  }
 },
 "nbformat": 4,
 "nbformat_minor": 2
}
